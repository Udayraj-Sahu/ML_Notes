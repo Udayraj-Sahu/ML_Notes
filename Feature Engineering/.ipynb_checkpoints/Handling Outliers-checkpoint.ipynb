{
 "cells": [
  {
   "cell_type": "markdown",
   "id": "403287ee",
   "metadata": {},
   "source": [
    "### Handling Outliers"
   ]
  },
  {
   "cell_type": "markdown",
   "id": "980482ba",
   "metadata": {},
   "source": [
    "## 5 Number Summary\n",
    "1. Minimun value\n",
    "2. Q1- 25 Percentile\n",
    "3. Meidan \n",
    "4. Q3- 75 Percentile\n",
    "5. Maximum"
   ]
  },
  {
   "cell_type": "code",
   "execution_count": 1,
   "id": "fcaf4a0a",
   "metadata": {},
   "outputs": [],
   "source": [
    "import numpy as np"
   ]
  },
  {
   "cell_type": "code",
   "execution_count": 2,
   "id": "e3a1fe39",
   "metadata": {},
   "outputs": [],
   "source": [
    "lst_marks=[45,32,56,75,89,54,32,89,90,87,67,54,45,98,99,67,74,1000,1100]\n"
   ]
  },
  {
   "cell_type": "code",
   "execution_count": 3,
   "id": "240005af",
   "metadata": {},
   "outputs": [
    {
     "data": {
      "text/plain": [
       "array([54.])"
      ]
     },
     "execution_count": 3,
     "metadata": {},
     "output_type": "execute_result"
    }
   ],
   "source": [
    "np.percentile(lst_marks,[25]) ##Q1- 25 Percentile\n"
   ]
  },
  {
   "cell_type": "code",
   "execution_count": 4,
   "id": "5478c72f",
   "metadata": {},
   "outputs": [
    {
     "data": {
      "text/plain": [
       "array([89.5])"
      ]
     },
     "execution_count": 4,
     "metadata": {},
     "output_type": "execute_result"
    }
   ],
   "source": [
    "np.percentile(lst_marks,[75]) ##Q3- 75 Percentile"
   ]
  },
  {
   "cell_type": "code",
   "execution_count": null,
   "id": "a1fc060f",
   "metadata": {},
   "outputs": [],
   "source": [
    "np.percentile(lst_marks,[50]) ##Meidan\n"
   ]
  }
 ],
 "metadata": {
  "kernelspec": {
   "display_name": "Python 3 (ipykernel)",
   "language": "python",
   "name": "python3"
  },
  "language_info": {
   "codemirror_mode": {
    "name": "ipython",
    "version": 3
   },
   "file_extension": ".py",
   "mimetype": "text/x-python",
   "name": "python",
   "nbconvert_exporter": "python",
   "pygments_lexer": "ipython3",
   "version": "3.11.4"
  }
 },
 "nbformat": 4,
 "nbformat_minor": 5
}
