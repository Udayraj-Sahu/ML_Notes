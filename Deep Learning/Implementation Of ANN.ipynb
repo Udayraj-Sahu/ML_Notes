{
 "cells": [
  {
   "cell_type": "code",
   "execution_count": 2,
   "id": "b0d6e82f",
   "metadata": {},
   "outputs": [],
   "source": [
    "import numpy as np\n",
    "import pandas as pd\n",
    "import matplotlib.pyplot as plt"
   ]
  },
  {
   "cell_type": "code",
   "execution_count": 3,
   "id": "40a1c0d5",
   "metadata": {},
   "outputs": [],
   "source": [
    "dataset = pd.read_csv('Churn_Modelling.csv')"
   ]
  },
  {
   "cell_type": "code",
   "execution_count": 4,
   "id": "03b74f0a",
   "metadata": {},
   "outputs": [
    {
     "data": {
      "text/html": [
       "<div>\n",
       "<style scoped>\n",
       "    .dataframe tbody tr th:only-of-type {\n",
       "        vertical-align: middle;\n",
       "    }\n",
       "\n",
       "    .dataframe tbody tr th {\n",
       "        vertical-align: top;\n",
       "    }\n",
       "\n",
       "    .dataframe thead th {\n",
       "        text-align: right;\n",
       "    }\n",
       "</style>\n",
       "<table border=\"1\" class=\"dataframe\">\n",
       "  <thead>\n",
       "    <tr style=\"text-align: right;\">\n",
       "      <th></th>\n",
       "      <th>RowNumber</th>\n",
       "      <th>CustomerId</th>\n",
       "      <th>Surname</th>\n",
       "      <th>CreditScore</th>\n",
       "      <th>Geography</th>\n",
       "      <th>Gender</th>\n",
       "      <th>Age</th>\n",
       "      <th>Tenure</th>\n",
       "      <th>Balance</th>\n",
       "      <th>NumOfProducts</th>\n",
       "      <th>HasCrCard</th>\n",
       "      <th>IsActiveMember</th>\n",
       "      <th>EstimatedSalary</th>\n",
       "      <th>Exited</th>\n",
       "    </tr>\n",
       "  </thead>\n",
       "  <tbody>\n",
       "    <tr>\n",
       "      <th>0</th>\n",
       "      <td>1</td>\n",
       "      <td>15634602</td>\n",
       "      <td>Hargrave</td>\n",
       "      <td>619</td>\n",
       "      <td>France</td>\n",
       "      <td>Female</td>\n",
       "      <td>42</td>\n",
       "      <td>2</td>\n",
       "      <td>0.00</td>\n",
       "      <td>1</td>\n",
       "      <td>1</td>\n",
       "      <td>1</td>\n",
       "      <td>101348.88</td>\n",
       "      <td>1</td>\n",
       "    </tr>\n",
       "    <tr>\n",
       "      <th>1</th>\n",
       "      <td>2</td>\n",
       "      <td>15647311</td>\n",
       "      <td>Hill</td>\n",
       "      <td>608</td>\n",
       "      <td>Spain</td>\n",
       "      <td>Female</td>\n",
       "      <td>41</td>\n",
       "      <td>1</td>\n",
       "      <td>83807.86</td>\n",
       "      <td>1</td>\n",
       "      <td>0</td>\n",
       "      <td>1</td>\n",
       "      <td>112542.58</td>\n",
       "      <td>0</td>\n",
       "    </tr>\n",
       "    <tr>\n",
       "      <th>2</th>\n",
       "      <td>3</td>\n",
       "      <td>15619304</td>\n",
       "      <td>Onio</td>\n",
       "      <td>502</td>\n",
       "      <td>France</td>\n",
       "      <td>Female</td>\n",
       "      <td>42</td>\n",
       "      <td>8</td>\n",
       "      <td>159660.80</td>\n",
       "      <td>3</td>\n",
       "      <td>1</td>\n",
       "      <td>0</td>\n",
       "      <td>113931.57</td>\n",
       "      <td>1</td>\n",
       "    </tr>\n",
       "    <tr>\n",
       "      <th>3</th>\n",
       "      <td>4</td>\n",
       "      <td>15701354</td>\n",
       "      <td>Boni</td>\n",
       "      <td>699</td>\n",
       "      <td>France</td>\n",
       "      <td>Female</td>\n",
       "      <td>39</td>\n",
       "      <td>1</td>\n",
       "      <td>0.00</td>\n",
       "      <td>2</td>\n",
       "      <td>0</td>\n",
       "      <td>0</td>\n",
       "      <td>93826.63</td>\n",
       "      <td>0</td>\n",
       "    </tr>\n",
       "    <tr>\n",
       "      <th>4</th>\n",
       "      <td>5</td>\n",
       "      <td>15737888</td>\n",
       "      <td>Mitchell</td>\n",
       "      <td>850</td>\n",
       "      <td>Spain</td>\n",
       "      <td>Female</td>\n",
       "      <td>43</td>\n",
       "      <td>2</td>\n",
       "      <td>125510.82</td>\n",
       "      <td>1</td>\n",
       "      <td>1</td>\n",
       "      <td>1</td>\n",
       "      <td>79084.10</td>\n",
       "      <td>0</td>\n",
       "    </tr>\n",
       "  </tbody>\n",
       "</table>\n",
       "</div>"
      ],
      "text/plain": [
       "   RowNumber  CustomerId   Surname  CreditScore Geography  Gender  Age  \\\n",
       "0          1    15634602  Hargrave          619    France  Female   42   \n",
       "1          2    15647311      Hill          608     Spain  Female   41   \n",
       "2          3    15619304      Onio          502    France  Female   42   \n",
       "3          4    15701354      Boni          699    France  Female   39   \n",
       "4          5    15737888  Mitchell          850     Spain  Female   43   \n",
       "\n",
       "   Tenure    Balance  NumOfProducts  HasCrCard  IsActiveMember  \\\n",
       "0       2       0.00              1          1               1   \n",
       "1       1   83807.86              1          0               1   \n",
       "2       8  159660.80              3          1               0   \n",
       "3       1       0.00              2          0               0   \n",
       "4       2  125510.82              1          1               1   \n",
       "\n",
       "   EstimatedSalary  Exited  \n",
       "0        101348.88       1  \n",
       "1        112542.58       0  \n",
       "2        113931.57       1  \n",
       "3         93826.63       0  \n",
       "4         79084.10       0  "
      ]
     },
     "execution_count": 4,
     "metadata": {},
     "output_type": "execute_result"
    }
   ],
   "source": [
    "dataset.head()"
   ]
  },
  {
   "cell_type": "code",
   "execution_count": 5,
   "id": "b9c9836a",
   "metadata": {},
   "outputs": [],
   "source": [
    "X = dataset.iloc[:,3:13]\n",
    "y= dataset.iloc[:,13]"
   ]
  },
  {
   "cell_type": "code",
   "execution_count": 6,
   "id": "5225f72a",
   "metadata": {},
   "outputs": [
    {
     "data": {
      "text/html": [
       "<div>\n",
       "<style scoped>\n",
       "    .dataframe tbody tr th:only-of-type {\n",
       "        vertical-align: middle;\n",
       "    }\n",
       "\n",
       "    .dataframe tbody tr th {\n",
       "        vertical-align: top;\n",
       "    }\n",
       "\n",
       "    .dataframe thead th {\n",
       "        text-align: right;\n",
       "    }\n",
       "</style>\n",
       "<table border=\"1\" class=\"dataframe\">\n",
       "  <thead>\n",
       "    <tr style=\"text-align: right;\">\n",
       "      <th></th>\n",
       "      <th>CreditScore</th>\n",
       "      <th>Geography</th>\n",
       "      <th>Gender</th>\n",
       "      <th>Age</th>\n",
       "      <th>Tenure</th>\n",
       "      <th>Balance</th>\n",
       "      <th>NumOfProducts</th>\n",
       "      <th>HasCrCard</th>\n",
       "      <th>IsActiveMember</th>\n",
       "      <th>EstimatedSalary</th>\n",
       "    </tr>\n",
       "  </thead>\n",
       "  <tbody>\n",
       "    <tr>\n",
       "      <th>0</th>\n",
       "      <td>619</td>\n",
       "      <td>France</td>\n",
       "      <td>Female</td>\n",
       "      <td>42</td>\n",
       "      <td>2</td>\n",
       "      <td>0.00</td>\n",
       "      <td>1</td>\n",
       "      <td>1</td>\n",
       "      <td>1</td>\n",
       "      <td>101348.88</td>\n",
       "    </tr>\n",
       "    <tr>\n",
       "      <th>1</th>\n",
       "      <td>608</td>\n",
       "      <td>Spain</td>\n",
       "      <td>Female</td>\n",
       "      <td>41</td>\n",
       "      <td>1</td>\n",
       "      <td>83807.86</td>\n",
       "      <td>1</td>\n",
       "      <td>0</td>\n",
       "      <td>1</td>\n",
       "      <td>112542.58</td>\n",
       "    </tr>\n",
       "    <tr>\n",
       "      <th>2</th>\n",
       "      <td>502</td>\n",
       "      <td>France</td>\n",
       "      <td>Female</td>\n",
       "      <td>42</td>\n",
       "      <td>8</td>\n",
       "      <td>159660.80</td>\n",
       "      <td>3</td>\n",
       "      <td>1</td>\n",
       "      <td>0</td>\n",
       "      <td>113931.57</td>\n",
       "    </tr>\n",
       "    <tr>\n",
       "      <th>3</th>\n",
       "      <td>699</td>\n",
       "      <td>France</td>\n",
       "      <td>Female</td>\n",
       "      <td>39</td>\n",
       "      <td>1</td>\n",
       "      <td>0.00</td>\n",
       "      <td>2</td>\n",
       "      <td>0</td>\n",
       "      <td>0</td>\n",
       "      <td>93826.63</td>\n",
       "    </tr>\n",
       "    <tr>\n",
       "      <th>4</th>\n",
       "      <td>850</td>\n",
       "      <td>Spain</td>\n",
       "      <td>Female</td>\n",
       "      <td>43</td>\n",
       "      <td>2</td>\n",
       "      <td>125510.82</td>\n",
       "      <td>1</td>\n",
       "      <td>1</td>\n",
       "      <td>1</td>\n",
       "      <td>79084.10</td>\n",
       "    </tr>\n",
       "  </tbody>\n",
       "</table>\n",
       "</div>"
      ],
      "text/plain": [
       "   CreditScore Geography  Gender  Age  Tenure    Balance  NumOfProducts  \\\n",
       "0          619    France  Female   42       2       0.00              1   \n",
       "1          608     Spain  Female   41       1   83807.86              1   \n",
       "2          502    France  Female   42       8  159660.80              3   \n",
       "3          699    France  Female   39       1       0.00              2   \n",
       "4          850     Spain  Female   43       2  125510.82              1   \n",
       "\n",
       "   HasCrCard  IsActiveMember  EstimatedSalary  \n",
       "0          1               1        101348.88  \n",
       "1          0               1        112542.58  \n",
       "2          1               0        113931.57  \n",
       "3          0               0         93826.63  \n",
       "4          1               1         79084.10  "
      ]
     },
     "execution_count": 6,
     "metadata": {},
     "output_type": "execute_result"
    }
   ],
   "source": [
    "X.head()"
   ]
  },
  {
   "cell_type": "code",
   "execution_count": 7,
   "id": "45041b4f",
   "metadata": {},
   "outputs": [
    {
     "data": {
      "text/plain": [
       "0       1\n",
       "1       0\n",
       "2       1\n",
       "3       0\n",
       "4       0\n",
       "       ..\n",
       "9995    0\n",
       "9996    0\n",
       "9997    1\n",
       "9998    1\n",
       "9999    0\n",
       "Name: Exited, Length: 10000, dtype: int64"
      ]
     },
     "execution_count": 7,
     "metadata": {},
     "output_type": "execute_result"
    }
   ],
   "source": [
    "y"
   ]
  },
  {
   "cell_type": "code",
   "execution_count": 13,
   "id": "23e2faa9",
   "metadata": {},
   "outputs": [],
   "source": [
    "## Feature Engineering \n",
    "geography = pd.get_dummies(X['Geography'],drop_first=True)\n",
    "gender = pd.get_dummies(X['Gender'],drop_first=True)"
   ]
  },
  {
   "cell_type": "code",
   "execution_count": 15,
   "id": "06894d6c",
   "metadata": {},
   "outputs": [],
   "source": [
    "\n",
    "X=X.drop(['Geography','Gender'],axis=1)"
   ]
  },
  {
   "cell_type": "code",
   "execution_count": 17,
   "id": "a238ffd1",
   "metadata": {},
   "outputs": [],
   "source": [
    "## Concatenate \n",
    "X=pd.concat([X,geography,gender],axis=1)"
   ]
  },
  {
   "cell_type": "code",
   "execution_count": 19,
   "id": "c2a5c416",
   "metadata": {},
   "outputs": [],
   "source": [
    "from sklearn.model_selection import train_test_split\n",
    "X_train, X_test , y_train  , y_test = train_test_split(X,y,test_size=0.20,random_state=0)"
   ]
  },
  {
   "cell_type": "code",
   "execution_count": 20,
   "id": "5092971d",
   "metadata": {},
   "outputs": [],
   "source": [
    "#Feeature Scaling\n",
    "from sklearn.preprocessing import StandardScaler\n",
    "sc = StandardScaler()"
   ]
  },
  {
   "cell_type": "code",
   "execution_count": 21,
   "id": "d7a9503c",
   "metadata": {},
   "outputs": [],
   "source": [
    "X_train = sc.fit_transform(X_train)\n",
    "X_test = sc.transform(X_test)"
   ]
  },
  {
   "cell_type": "code",
   "execution_count": 22,
   "id": "bb6f66ae",
   "metadata": {},
   "outputs": [
    {
     "data": {
      "text/plain": [
       "array([[ 0.16958176, -0.46460796,  0.00666099, ..., -0.5698444 ,\n",
       "         1.74309049, -1.09168714],\n",
       "       [-2.30455945,  0.30102557, -1.37744033, ...,  1.75486502,\n",
       "        -0.57369368,  0.91601335],\n",
       "       [-1.19119591, -0.94312892, -1.031415  , ..., -0.5698444 ,\n",
       "        -0.57369368, -1.09168714],\n",
       "       ...,\n",
       "       [ 0.9015152 , -0.36890377,  0.00666099, ..., -0.5698444 ,\n",
       "        -0.57369368,  0.91601335],\n",
       "       [-0.62420521, -0.08179119,  1.39076231, ..., -0.5698444 ,\n",
       "         1.74309049, -1.09168714],\n",
       "       [-0.28401079,  0.87525072, -1.37744033, ...,  1.75486502,\n",
       "        -0.57369368, -1.09168714]])"
      ]
     },
     "execution_count": 22,
     "metadata": {},
     "output_type": "execute_result"
    }
   ],
   "source": [
    "X_train"
   ]
  },
  {
   "cell_type": "code",
   "execution_count": 24,
   "id": "3293bf26",
   "metadata": {},
   "outputs": [
    {
     "data": {
      "text/plain": [
       "(8000, 11)"
      ]
     },
     "execution_count": 24,
     "metadata": {},
     "output_type": "execute_result"
    }
   ],
   "source": [
    "X_train.shape"
   ]
  },
  {
   "cell_type": "code",
   "execution_count": 27,
   "id": "e572380b",
   "metadata": {},
   "outputs": [],
   "source": [
    "## Create The ANN\n",
    "from tensorflow.keras.models import Sequential\n",
    "from tensorflow.keras.layers import Dense\n",
    "from tensorflow.keras.layers import LeakyReLU,ReLU,PReLU,ELU\n",
    "from tensorflow.keras.layers import Dropout\n"
   ]
  },
  {
   "cell_type": "code",
   "execution_count": 28,
   "id": "068c3a9c",
   "metadata": {},
   "outputs": [],
   "source": [
    "Classifier = Sequential()"
   ]
  },
  {
   "cell_type": "code",
   "execution_count": 31,
   "id": "434474eb",
   "metadata": {},
   "outputs": [],
   "source": [
    "## Adding Input layer\n",
    "Classifier.add(Dense(units=11,activation='relu'))"
   ]
  },
  {
   "cell_type": "code",
   "execution_count": 32,
   "id": "6cb7c6c0",
   "metadata": {},
   "outputs": [],
   "source": [
    "Classifier.add(Dense(units=7,activation=\n",
    "                    'relu'))"
   ]
  },
  {
   "cell_type": "code",
   "execution_count": 35,
   "id": "ee31de1c",
   "metadata": {},
   "outputs": [],
   "source": [
    "Classifier.add(Dense(units=6,activation='relu'))"
   ]
  },
  {
   "cell_type": "code",
   "execution_count": 36,
   "id": "39a17af9",
   "metadata": {},
   "outputs": [],
   "source": [
    "Classifier.add(Dense(1,activation='sigmoid'))"
   ]
  },
  {
   "cell_type": "code",
   "execution_count": 37,
   "id": "3794432b",
   "metadata": {},
   "outputs": [],
   "source": [
    "Classifier.compile(optimizer='adam',loss='binary_crossentropy',metrics=['accuracy'])"
   ]
  },
  {
   "cell_type": "code",
   "execution_count": 42,
   "id": "97cfdcab",
   "metadata": {},
   "outputs": [],
   "source": [
    "## Early Stopping\n",
    "import tensorflow as tf\n",
    "early_stopping=tf.keras.callbacks.EarlyStopping(\n",
    "    monitor='val_loss',\n",
    "    min_delta=0.0001,\n",
    "    patience=20,\n",
    "    verbose=1\n",
    "    ,mode='auto',\n",
    "    baseline=None,\n",
    "    restore_best_weights=False\n",
    "\n",
    ")\n",
    "\n"
   ]
  },
  {
   "cell_type": "code",
   "execution_count": 43,
   "id": "393c47dc",
   "metadata": {},
   "outputs": [
    {
     "name": "stdout",
     "output_type": "stream",
     "text": [
      "Epoch 1/1000\n",
      "\u001b[1m536/536\u001b[0m \u001b[32m━━━━━━━━━━━━━━━━━━━━\u001b[0m\u001b[37m\u001b[0m \u001b[1m2s\u001b[0m 3ms/step - accuracy: 0.8810 - loss: 0.2945 - val_accuracy: 0.8455 - val_loss: 0.3704\n",
      "Epoch 2/1000\n",
      "\u001b[1m536/536\u001b[0m \u001b[32m━━━━━━━━━━━━━━━━━━━━\u001b[0m\u001b[37m\u001b[0m \u001b[1m1s\u001b[0m 3ms/step - accuracy: 0.8748 - loss: 0.2982 - val_accuracy: 0.8504 - val_loss: 0.3663\n",
      "Epoch 3/1000\n",
      "\u001b[1m536/536\u001b[0m \u001b[32m━━━━━━━━━━━━━━━━━━━━\u001b[0m\u001b[37m\u001b[0m \u001b[1m1s\u001b[0m 3ms/step - accuracy: 0.8719 - loss: 0.3022 - val_accuracy: 0.8512 - val_loss: 0.3667\n"
     ]
    }
   ],
   "source": [
    "model_history = Classifier.fit(X_train,y_train,validation_split=0.33,batch_size=10,epochs=1000,callbacks=early_stopping)"
   ]
  },
  {
   "cell_type": "code",
   "execution_count": 50,
   "id": "fb9dca9c",
   "metadata": {},
   "outputs": [],
   "source": [
    "dat=pd.DataFrame(model_history.history)"
   ]
  },
  {
   "cell_type": "code",
   "execution_count": 51,
   "id": "f5c65884",
   "metadata": {},
   "outputs": [
    {
     "data": {
      "text/html": [
       "<div>\n",
       "<style scoped>\n",
       "    .dataframe tbody tr th:only-of-type {\n",
       "        vertical-align: middle;\n",
       "    }\n",
       "\n",
       "    .dataframe tbody tr th {\n",
       "        vertical-align: top;\n",
       "    }\n",
       "\n",
       "    .dataframe thead th {\n",
       "        text-align: right;\n",
       "    }\n",
       "</style>\n",
       "<table border=\"1\" class=\"dataframe\">\n",
       "  <thead>\n",
       "    <tr style=\"text-align: right;\">\n",
       "      <th></th>\n",
       "      <th>accuracy</th>\n",
       "      <th>loss</th>\n",
       "      <th>val_accuracy</th>\n",
       "      <th>val_loss</th>\n",
       "    </tr>\n",
       "  </thead>\n",
       "  <tbody>\n",
       "    <tr>\n",
       "      <th>0</th>\n",
       "      <td>0.869565</td>\n",
       "      <td>0.311814</td>\n",
       "      <td>0.845513</td>\n",
       "      <td>0.370425</td>\n",
       "    </tr>\n",
       "    <tr>\n",
       "      <th>1</th>\n",
       "      <td>0.868632</td>\n",
       "      <td>0.312061</td>\n",
       "      <td>0.850435</td>\n",
       "      <td>0.366280</td>\n",
       "    </tr>\n",
       "    <tr>\n",
       "      <th>2</th>\n",
       "      <td>0.871431</td>\n",
       "      <td>0.310993</td>\n",
       "      <td>0.851193</td>\n",
       "      <td>0.366704</td>\n",
       "    </tr>\n",
       "  </tbody>\n",
       "</table>\n",
       "</div>"
      ],
      "text/plain": [
       "   accuracy      loss  val_accuracy  val_loss\n",
       "0  0.869565  0.311814      0.845513  0.370425\n",
       "1  0.868632  0.312061      0.850435  0.366280\n",
       "2  0.871431  0.310993      0.851193  0.366704"
      ]
     },
     "execution_count": 51,
     "metadata": {},
     "output_type": "execute_result"
    }
   ],
   "source": [
    "dat"
   ]
  },
  {
   "cell_type": "code",
   "execution_count": 52,
   "id": "08aabb59",
   "metadata": {},
   "outputs": [
    {
     "name": "stdout",
     "output_type": "stream",
     "text": [
      "\u001b[1m63/63\u001b[0m \u001b[32m━━━━━━━━━━━━━━━━━━━━\u001b[0m\u001b[37m\u001b[0m \u001b[1m0s\u001b[0m 2ms/step\n"
     ]
    }
   ],
   "source": [
    "y_pred = Classifier.predict(X_test)"
   ]
  },
  {
   "cell_type": "code",
   "execution_count": 53,
   "id": "b4070e4e",
   "metadata": {},
   "outputs": [],
   "source": [
    "y_pred = (y_pred >= 0.5)"
   ]
  },
  {
   "cell_type": "code",
   "execution_count": 55,
   "id": "00322030",
   "metadata": {},
   "outputs": [
    {
     "data": {
      "text/plain": [
       "array([[1528,   67],\n",
       "       [ 221,  184]], dtype=int64)"
      ]
     },
     "execution_count": 55,
     "metadata": {},
     "output_type": "execute_result"
    }
   ],
   "source": [
    "from sklearn.metrics import confusion_matrix,accuracy_score\n",
    "cm = confusion_matrix(y_test,y_pred)\n",
    "cm"
   ]
  },
  {
   "cell_type": "code",
   "execution_count": 56,
   "id": "0d683f7b",
   "metadata": {},
   "outputs": [],
   "source": [
    "score = accuracy_score(y_test,y_pred)"
   ]
  },
  {
   "cell_type": "code",
   "execution_count": 57,
   "id": "fc05f41c",
   "metadata": {},
   "outputs": [
    {
     "data": {
      "text/plain": [
       "0.856"
      ]
     },
     "execution_count": 57,
     "metadata": {},
     "output_type": "execute_result"
    }
   ],
   "source": [
    "score"
   ]
  },
  {
   "cell_type": "code",
   "execution_count": 59,
   "id": "295abeb6",
   "metadata": {},
   "outputs": [
    {
     "data": {
      "text/plain": [
       "[array([[ 1.7137246e-02, -5.3616717e-02, -4.6992935e-02, -2.0323072e-01,\n",
       "          1.3016137e-01,  1.6296681e-02,  3.6163187e-01,  1.8753338e-01,\n",
       "         -4.0265191e-02, -1.7978859e-01,  6.7448273e-02],\n",
       "        [-5.6661624e-01, -2.1735935e-01,  4.7316957e-01,  1.5804239e-01,\n",
       "         -2.4770798e-01, -2.2455126e-01, -8.7718904e-01, -5.6086022e-01,\n",
       "          4.6028253e-02, -2.7181131e-01,  8.5259712e-01],\n",
       "        [-1.5315743e-01,  9.7331822e-02, -4.9074050e-02,  9.7579263e-02,\n",
       "          8.1325865e-01,  1.9380720e-01,  1.2799349e-01,  5.8305226e-02,\n",
       "         -2.1154241e-01,  8.1046081e-01,  1.6786829e-01],\n",
       "        [-3.4181741e-01, -8.9534454e-02, -4.3220493e-01,  1.4837167e-01,\n",
       "          3.7020388e-01,  6.6518396e-01, -9.1539323e-02,  2.2302078e-01,\n",
       "          5.8555681e-01, -3.8366657e-01, -4.2227954e-01],\n",
       "        [-2.0754378e-01, -1.0233090e+00, -1.1961619e+00,  4.4225402e-02,\n",
       "          2.5493768e-01,  6.8715692e-01,  2.0717460e-01,  5.2360111e-01,\n",
       "          1.0559356e+00,  9.1998965e-01,  7.9775798e-01],\n",
       "        [-7.7963717e-02,  4.3172008e-01, -1.2277138e-01,  1.4941821e-01,\n",
       "          3.9899740e-01, -4.1722023e-01, -1.4788998e-02,  3.7245157e-01,\n",
       "          2.0145729e-01, -1.9125777e-01, -2.4751146e-01],\n",
       "        [-5.6672555e-01,  2.8146383e-01, -2.7156726e-01,  7.7239865e-01,\n",
       "         -3.2552123e-01, -3.8680122e-03,  8.6569041e-01, -9.5211303e-01,\n",
       "         -2.3229271e-01, -5.7466274e-01, -1.1838990e-01],\n",
       "        [-1.5383221e-01, -2.6954970e-01,  8.1205539e-02, -2.5150663e-01,\n",
       "         -3.4784421e-01,  3.4858358e-01,  1.8502609e-01,  8.0027930e-02,\n",
       "         -3.0365577e-01,  4.9870485e-01,  2.8010708e-01],\n",
       "        [-3.5275060e-01, -3.5230726e-01,  2.0694798e-01, -1.8115869e-01,\n",
       "         -2.8068697e-01, -3.5561651e-02, -6.1286822e-02,  6.8444967e-01,\n",
       "         -4.6130544e-01, -1.6056186e-01,  6.1053742e-02],\n",
       "        [-4.5325807e-01,  4.1770338e-04, -2.0440182e-01, -3.5291970e-01,\n",
       "          9.6159220e-02, -3.2327303e-01,  9.0422504e-02,  4.9405217e-01,\n",
       "         -2.2571780e-01,  1.8780856e-01,  5.9261035e-02],\n",
       "        [ 2.0792499e-02,  9.3244009e-02, -8.8543117e-02, -2.6496428e-01,\n",
       "         -1.3100775e-01, -7.3065639e-01,  2.6606843e-01, -1.6260225e-02,\n",
       "         -1.4113475e-01,  6.9381273e-01,  1.3078749e-01]], dtype=float32),\n",
       " array([ 0.90489316,  0.01478882,  0.01296228,  0.08874808,  0.22987598,\n",
       "         0.02210595,  0.6019814 , -0.12483158,  0.046549  ,  0.4183307 ,\n",
       "        -0.09235641], dtype=float32),\n",
       " array([[ 0.743289  ,  0.02064928, -0.21825674, -1.8053963 , -0.52236617,\n",
       "         -0.47554377, -0.44683325],\n",
       "        [-0.05486517,  0.03320713, -0.9408217 ,  0.5144374 ,  0.40944153,\n",
       "          0.38878047, -0.14760602],\n",
       "        [-0.67024165, -0.6612763 , -0.10486417,  0.28028667,  0.9171235 ,\n",
       "          0.132417  , -0.05384298],\n",
       "        [ 0.5681672 ,  0.023132  , -0.17777191, -0.20430027, -0.2709598 ,\n",
       "         -1.0053139 ,  0.59673065],\n",
       "        [ 0.6385674 , -0.01041163, -0.24911435, -0.06309897,  0.3711103 ,\n",
       "          0.553353  , -0.30459508],\n",
       "        [-0.7216153 , -0.516494  ,  0.6017575 , -0.30863953, -0.12429772,\n",
       "          0.11906333, -0.35723445],\n",
       "        [ 0.41448474,  0.20682654,  0.57517165, -0.06089222,  0.4126677 ,\n",
       "         -1.1172879 ,  0.6490085 ],\n",
       "        [-0.56326365, -0.6541457 ,  0.14262588, -2.3242958 , -0.47498092,\n",
       "         -0.2755577 , -0.8012708 ],\n",
       "        [-0.02046753, -0.7367176 ,  0.32284498,  0.11072572,  0.7745988 ,\n",
       "         -0.03712873, -0.4450471 ],\n",
       "        [ 0.25482613,  0.6745592 ,  0.5191412 , -0.49518004,  0.5209677 ,\n",
       "          0.8348309 , -0.03728821],\n",
       "        [ 0.04553871,  0.04107547,  0.08303414,  0.88254017,  0.635499  ,\n",
       "         -0.43975216,  0.24605432]], dtype=float32),\n",
       " array([ 0.8249239 ,  0.49914095,  0.5222338 , -0.1886267 , -0.5059511 ,\n",
       "         0.1989976 ,  0.12212024], dtype=float32),\n",
       " array([[-0.38216597,  0.70538145, -0.2933824 , -0.50725985, -0.9999549 ,\n",
       "          0.40056056],\n",
       "        [-0.6190043 ,  0.27971643,  1.3390745 ,  0.5991487 , -0.48199677,\n",
       "          0.37984517],\n",
       "        [-0.01234408,  0.30266717, -0.26816675, -0.78521806, -0.02663701,\n",
       "          0.69932735],\n",
       "        [ 0.53413427,  0.04275183,  0.4139427 ,  1.1797308 , -0.6157987 ,\n",
       "          0.14273849],\n",
       "        [-0.6485561 , -0.72877914,  0.130769  , -0.03759489,  1.216728  ,\n",
       "         -0.85875565],\n",
       "        [-0.14758909,  0.08700228, -1.2149156 , -2.433439  , -0.79996735,\n",
       "         -0.24106802],\n",
       "        [-0.25855997,  0.04306087,  0.621231  ,  0.4527826 , -1.0803505 ,\n",
       "         -0.4508733 ]], dtype=float32),\n",
       " array([-0.10622211,  0.4021356 , -0.33941785, -0.01137322,  0.21244188,\n",
       "         0.3791107 ], dtype=float32),\n",
       " array([[ 0.37825337],\n",
       "        [-0.8206296 ],\n",
       "        [-1.3109485 ],\n",
       "        [-1.1371756 ],\n",
       "        [ 1.4982208 ],\n",
       "        [-0.58204556]], dtype=float32),\n",
       " array([0.14977403], dtype=float32)]"
      ]
     },
     "execution_count": 59,
     "metadata": {},
     "output_type": "execute_result"
    }
   ],
   "source": [
    "## Get The Weight\n",
    "Classifier.get_weights()"
   ]
  },
  {
   "cell_type": "code",
   "execution_count": null,
   "id": "329036b4",
   "metadata": {},
   "outputs": [],
   "source": []
  }
 ],
 "metadata": {
  "kernelspec": {
   "display_name": "Python 3 (ipykernel)",
   "language": "python",
   "name": "python3"
  },
  "language_info": {
   "codemirror_mode": {
    "name": "ipython",
    "version": 3
   },
   "file_extension": ".py",
   "mimetype": "text/x-python",
   "name": "python",
   "nbconvert_exporter": "python",
   "pygments_lexer": "ipython3",
   "version": "3.11.4"
  }
 },
 "nbformat": 4,
 "nbformat_minor": 5
}
