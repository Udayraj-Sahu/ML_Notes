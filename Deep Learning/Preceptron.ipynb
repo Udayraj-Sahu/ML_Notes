{
 "cells": [
  {
   "cell_type": "code",
   "execution_count": 20,
   "id": "0b65f21b",
   "metadata": {},
   "outputs": [],
   "source": [
    "import numpy as np\n",
    "import joblib\n",
    "import matplotlib.pyplot as plt\n",
    "import pandas as pd"
   ]
  },
  {
   "cell_type": "code",
   "execution_count": 28,
   "id": "0e71a49d",
   "metadata": {},
   "outputs": [],
   "source": [
    "class Perceptron:\n",
    "    def __init__(self, eta, epochs):\n",
    "        self.weights = np.random.randn(3) * 1e-4\n",
    "        print(f\"self.weights:{self.weights}\")\n",
    "        self.eta = eta\n",
    "        self.epochs = epochs\n",
    "        \n",
    "    def activationFunction(self,inputs,weights):\n",
    "        z = np.dot(inputs,weights)\n",
    "        return np.where(z> 0,1,0)\n",
    "    \n",
    "    def fit(self,X,y):\n",
    "        self.X = X\n",
    "        self.y = y \n",
    "        \n",
    "        X_with_bias = np.c_[self.X, -np.ones((len(self.X), 1))]\n",
    "        print(f\"X_with_bias:  \\n{X_with_bias}\")\n",
    "        \n",
    "        \n",
    "        for epoch in range(self.epochs):\n",
    "            print(f\"for epoch: {epoch}\")\n",
    "            y_hat = self.activationFunction(X_with_bias , self.weights)\n",
    "            print(f\"predicted value: \\n{y_hat}\")\n",
    "            error = self.y - y_hat\n",
    "            print(f\"error : \\n {error}\")\n",
    "            self.weights = self.weights + self.eta * np.dot(X_with_bias.T , error)\n",
    "            print(f\"updated wights: \\n {self.weights}\")\n",
    "        \n",
    "    def predict(self,X):\n",
    "        X_with_bias = np.c_[X, -np.ones((len(self.X),1))]\n",
    "        return self.activationFunction(X_with_bias , self.weights)"
   ]
  },
  {
   "cell_type": "markdown",
   "id": "44ee9535",
   "metadata": {},
   "source": [
    "### AND Operation"
   ]
  },
  {
   "cell_type": "code",
   "execution_count": 51,
   "id": "3d7ef3db",
   "metadata": {},
   "outputs": [],
   "source": [
    "data = {\"x1\": [0,0,1,1] , \"x2\": [0,1,0,1] , \"y\" : [0,0,0,1]}\n",
    "\n",
    "AND = pd.DataFrame(data\n",
    "                  )"
   ]
  },
  {
   "cell_type": "code",
   "execution_count": 52,
   "id": "9d10f078",
   "metadata": {},
   "outputs": [
    {
     "data": {
      "text/html": [
       "<div>\n",
       "<style scoped>\n",
       "    .dataframe tbody tr th:only-of-type {\n",
       "        vertical-align: middle;\n",
       "    }\n",
       "\n",
       "    .dataframe tbody tr th {\n",
       "        vertical-align: top;\n",
       "    }\n",
       "\n",
       "    .dataframe thead th {\n",
       "        text-align: right;\n",
       "    }\n",
       "</style>\n",
       "<table border=\"1\" class=\"dataframe\">\n",
       "  <thead>\n",
       "    <tr style=\"text-align: right;\">\n",
       "      <th></th>\n",
       "      <th>x1</th>\n",
       "      <th>x2</th>\n",
       "      <th>y</th>\n",
       "    </tr>\n",
       "  </thead>\n",
       "  <tbody>\n",
       "    <tr>\n",
       "      <th>0</th>\n",
       "      <td>0</td>\n",
       "      <td>0</td>\n",
       "      <td>0</td>\n",
       "    </tr>\n",
       "    <tr>\n",
       "      <th>1</th>\n",
       "      <td>0</td>\n",
       "      <td>1</td>\n",
       "      <td>1</td>\n",
       "    </tr>\n",
       "    <tr>\n",
       "      <th>2</th>\n",
       "      <td>1</td>\n",
       "      <td>0</td>\n",
       "      <td>1</td>\n",
       "    </tr>\n",
       "    <tr>\n",
       "      <th>3</th>\n",
       "      <td>1</td>\n",
       "      <td>1</td>\n",
       "      <td>1</td>\n",
       "    </tr>\n",
       "  </tbody>\n",
       "</table>\n",
       "</div>"
      ],
      "text/plain": [
       "   x1  x2  y\n",
       "0   0   0  0\n",
       "1   0   1  1\n",
       "2   1   0  1\n",
       "3   1   1  1"
      ]
     },
     "execution_count": 52,
     "metadata": {},
     "output_type": "execute_result"
    }
   ],
   "source": [
    "OR"
   ]
  },
  {
   "cell_type": "code",
   "execution_count": 53,
   "id": "c24f7b3a",
   "metadata": {},
   "outputs": [],
   "source": [
    "X = AND.drop('y',axis=1)"
   ]
  },
  {
   "cell_type": "code",
   "execution_count": 54,
   "id": "f69deb66",
   "metadata": {},
   "outputs": [
    {
     "data": {
      "text/html": [
       "<div>\n",
       "<style scoped>\n",
       "    .dataframe tbody tr th:only-of-type {\n",
       "        vertical-align: middle;\n",
       "    }\n",
       "\n",
       "    .dataframe tbody tr th {\n",
       "        vertical-align: top;\n",
       "    }\n",
       "\n",
       "    .dataframe thead th {\n",
       "        text-align: right;\n",
       "    }\n",
       "</style>\n",
       "<table border=\"1\" class=\"dataframe\">\n",
       "  <thead>\n",
       "    <tr style=\"text-align: right;\">\n",
       "      <th></th>\n",
       "      <th>x1</th>\n",
       "      <th>x2</th>\n",
       "    </tr>\n",
       "  </thead>\n",
       "  <tbody>\n",
       "    <tr>\n",
       "      <th>0</th>\n",
       "      <td>0</td>\n",
       "      <td>0</td>\n",
       "    </tr>\n",
       "    <tr>\n",
       "      <th>1</th>\n",
       "      <td>0</td>\n",
       "      <td>1</td>\n",
       "    </tr>\n",
       "    <tr>\n",
       "      <th>2</th>\n",
       "      <td>1</td>\n",
       "      <td>0</td>\n",
       "    </tr>\n",
       "    <tr>\n",
       "      <th>3</th>\n",
       "      <td>1</td>\n",
       "      <td>1</td>\n",
       "    </tr>\n",
       "  </tbody>\n",
       "</table>\n",
       "</div>"
      ],
      "text/plain": [
       "   x1  x2\n",
       "0   0   0\n",
       "1   0   1\n",
       "2   1   0\n",
       "3   1   1"
      ]
     },
     "execution_count": 54,
     "metadata": {},
     "output_type": "execute_result"
    }
   ],
   "source": [
    "X"
   ]
  },
  {
   "cell_type": "code",
   "execution_count": 55,
   "id": "b9488121",
   "metadata": {},
   "outputs": [
    {
     "data": {
      "text/html": [
       "<div>\n",
       "<style scoped>\n",
       "    .dataframe tbody tr th:only-of-type {\n",
       "        vertical-align: middle;\n",
       "    }\n",
       "\n",
       "    .dataframe tbody tr th {\n",
       "        vertical-align: top;\n",
       "    }\n",
       "\n",
       "    .dataframe thead th {\n",
       "        text-align: right;\n",
       "    }\n",
       "</style>\n",
       "<table border=\"1\" class=\"dataframe\">\n",
       "  <thead>\n",
       "    <tr style=\"text-align: right;\">\n",
       "      <th></th>\n",
       "      <th>y</th>\n",
       "    </tr>\n",
       "  </thead>\n",
       "  <tbody>\n",
       "    <tr>\n",
       "      <th>0</th>\n",
       "      <td>0</td>\n",
       "    </tr>\n",
       "    <tr>\n",
       "      <th>1</th>\n",
       "      <td>1</td>\n",
       "    </tr>\n",
       "    <tr>\n",
       "      <th>2</th>\n",
       "      <td>1</td>\n",
       "    </tr>\n",
       "    <tr>\n",
       "      <th>3</th>\n",
       "      <td>1</td>\n",
       "    </tr>\n",
       "  </tbody>\n",
       "</table>\n",
       "</div>"
      ],
      "text/plain": [
       "   y\n",
       "0  0\n",
       "1  1\n",
       "2  1\n",
       "3  1"
      ]
     },
     "execution_count": 55,
     "metadata": {},
     "output_type": "execute_result"
    }
   ],
   "source": [
    "y = AND['y']\n",
    "y.to_frame()"
   ]
  },
  {
   "cell_type": "code",
   "execution_count": 56,
   "id": "7159b153",
   "metadata": {},
   "outputs": [
    {
     "name": "stdout",
     "output_type": "stream",
     "text": [
      "self.weights:[3.44228397e-05 9.25241529e-05 8.58477886e-05]\n",
      "X_with_bias:  \n",
      "[[ 0.  0. -1.]\n",
      " [ 0.  1. -1.]\n",
      " [ 1.  0. -1.]\n",
      " [ 1.  1. -1.]]\n",
      "for epoch: 0\n",
      "predicted value: \n",
      "[0 1 0 1]\n",
      "error : \n",
      " 0    0\n",
      "1    0\n",
      "2    1\n",
      "3    0\n",
      "Name: y, dtype: int64\n",
      "updated wights: \n",
      " [ 5.00034423e-01  9.25241529e-05 -4.99914152e-01]\n",
      "for epoch: 1\n",
      "predicted value: \n",
      "[1 1 1 1]\n",
      "error : \n",
      " 0   -1\n",
      "1    0\n",
      "2    0\n",
      "3    0\n",
      "Name: y, dtype: int64\n",
      "updated wights: \n",
      " [5.00034423e-01 9.25241529e-05 8.58477886e-05]\n",
      "for epoch: 2\n",
      "predicted value: \n",
      "[0 1 1 1]\n",
      "error : \n",
      " 0    0\n",
      "1    0\n",
      "2    0\n",
      "3    0\n",
      "Name: y, dtype: int64\n",
      "updated wights: \n",
      " [5.00034423e-01 9.25241529e-05 8.58477886e-05]\n",
      "for epoch: 3\n",
      "predicted value: \n",
      "[0 1 1 1]\n",
      "error : \n",
      " 0    0\n",
      "1    0\n",
      "2    0\n",
      "3    0\n",
      "Name: y, dtype: int64\n",
      "updated wights: \n",
      " [5.00034423e-01 9.25241529e-05 8.58477886e-05]\n",
      "for epoch: 4\n",
      "predicted value: \n",
      "[0 1 1 1]\n",
      "error : \n",
      " 0    0\n",
      "1    0\n",
      "2    0\n",
      "3    0\n",
      "Name: y, dtype: int64\n",
      "updated wights: \n",
      " [5.00034423e-01 9.25241529e-05 8.58477886e-05]\n",
      "for epoch: 5\n",
      "predicted value: \n",
      "[0 1 1 1]\n",
      "error : \n",
      " 0    0\n",
      "1    0\n",
      "2    0\n",
      "3    0\n",
      "Name: y, dtype: int64\n",
      "updated wights: \n",
      " [5.00034423e-01 9.25241529e-05 8.58477886e-05]\n",
      "for epoch: 6\n",
      "predicted value: \n",
      "[0 1 1 1]\n",
      "error : \n",
      " 0    0\n",
      "1    0\n",
      "2    0\n",
      "3    0\n",
      "Name: y, dtype: int64\n",
      "updated wights: \n",
      " [5.00034423e-01 9.25241529e-05 8.58477886e-05]\n",
      "for epoch: 7\n",
      "predicted value: \n",
      "[0 1 1 1]\n",
      "error : \n",
      " 0    0\n",
      "1    0\n",
      "2    0\n",
      "3    0\n",
      "Name: y, dtype: int64\n",
      "updated wights: \n",
      " [5.00034423e-01 9.25241529e-05 8.58477886e-05]\n",
      "for epoch: 8\n",
      "predicted value: \n",
      "[0 1 1 1]\n",
      "error : \n",
      " 0    0\n",
      "1    0\n",
      "2    0\n",
      "3    0\n",
      "Name: y, dtype: int64\n",
      "updated wights: \n",
      " [5.00034423e-01 9.25241529e-05 8.58477886e-05]\n",
      "for epoch: 9\n",
      "predicted value: \n",
      "[0 1 1 1]\n",
      "error : \n",
      " 0    0\n",
      "1    0\n",
      "2    0\n",
      "3    0\n",
      "Name: y, dtype: int64\n",
      "updated wights: \n",
      " [5.00034423e-01 9.25241529e-05 8.58477886e-05]\n"
     ]
    }
   ],
   "source": [
    "model = Perceptron(eta=0.5,epochs=10)\n",
    "model.fit(X,y)"
   ]
  },
  {
   "cell_type": "code",
   "execution_count": 57,
   "id": "a77690f3",
   "metadata": {},
   "outputs": [
    {
     "data": {
      "text/plain": [
       "array([0, 1, 1, 1])"
      ]
     },
     "execution_count": 57,
     "metadata": {},
     "output_type": "execute_result"
    }
   ],
   "source": [
    "model.predict(X)"
   ]
  },
  {
   "cell_type": "code",
   "execution_count": 58,
   "id": "76263de2",
   "metadata": {},
   "outputs": [
    {
     "data": {
      "text/plain": [
       "array([5.00034423e-01, 9.25241529e-05, 8.58477886e-05])"
      ]
     },
     "execution_count": 58,
     "metadata": {},
     "output_type": "execute_result"
    }
   ],
   "source": [
    "model.weights"
   ]
  },
  {
   "cell_type": "markdown",
   "id": "3dad8e49",
   "metadata": {},
   "source": [
    "### OR Operation"
   ]
  },
  {
   "cell_type": "code",
   "execution_count": 61,
   "id": "58dfd9ee",
   "metadata": {},
   "outputs": [],
   "source": [
    "data = {\"x1\": [0,0,1,1] , \"x2\": [0,1,0,1] , \"y\" : [0,1,1,1]}\n",
    "\n",
    "OR = pd.DataFrame(data\n",
    "                  )"
   ]
  },
  {
   "cell_type": "code",
   "execution_count": 62,
   "id": "84503e11",
   "metadata": {},
   "outputs": [
    {
     "data": {
      "text/html": [
       "<div>\n",
       "<style scoped>\n",
       "    .dataframe tbody tr th:only-of-type {\n",
       "        vertical-align: middle;\n",
       "    }\n",
       "\n",
       "    .dataframe tbody tr th {\n",
       "        vertical-align: top;\n",
       "    }\n",
       "\n",
       "    .dataframe thead th {\n",
       "        text-align: right;\n",
       "    }\n",
       "</style>\n",
       "<table border=\"1\" class=\"dataframe\">\n",
       "  <thead>\n",
       "    <tr style=\"text-align: right;\">\n",
       "      <th></th>\n",
       "      <th>x1</th>\n",
       "      <th>x2</th>\n",
       "    </tr>\n",
       "  </thead>\n",
       "  <tbody>\n",
       "    <tr>\n",
       "      <th>0</th>\n",
       "      <td>0</td>\n",
       "      <td>0</td>\n",
       "    </tr>\n",
       "    <tr>\n",
       "      <th>1</th>\n",
       "      <td>0</td>\n",
       "      <td>1</td>\n",
       "    </tr>\n",
       "    <tr>\n",
       "      <th>2</th>\n",
       "      <td>1</td>\n",
       "      <td>0</td>\n",
       "    </tr>\n",
       "    <tr>\n",
       "      <th>3</th>\n",
       "      <td>1</td>\n",
       "      <td>1</td>\n",
       "    </tr>\n",
       "  </tbody>\n",
       "</table>\n",
       "</div>"
      ],
      "text/plain": [
       "   x1  x2\n",
       "0   0   0\n",
       "1   0   1\n",
       "2   1   0\n",
       "3   1   1"
      ]
     },
     "execution_count": 62,
     "metadata": {},
     "output_type": "execute_result"
    }
   ],
   "source": [
    "X = OR.drop('y',axis=1)\n",
    "X"
   ]
  },
  {
   "cell_type": "code",
   "execution_count": 63,
   "id": "4d3be418",
   "metadata": {},
   "outputs": [
    {
     "data": {
      "text/html": [
       "<div>\n",
       "<style scoped>\n",
       "    .dataframe tbody tr th:only-of-type {\n",
       "        vertical-align: middle;\n",
       "    }\n",
       "\n",
       "    .dataframe tbody tr th {\n",
       "        vertical-align: top;\n",
       "    }\n",
       "\n",
       "    .dataframe thead th {\n",
       "        text-align: right;\n",
       "    }\n",
       "</style>\n",
       "<table border=\"1\" class=\"dataframe\">\n",
       "  <thead>\n",
       "    <tr style=\"text-align: right;\">\n",
       "      <th></th>\n",
       "      <th>y</th>\n",
       "    </tr>\n",
       "  </thead>\n",
       "  <tbody>\n",
       "    <tr>\n",
       "      <th>0</th>\n",
       "      <td>0</td>\n",
       "    </tr>\n",
       "    <tr>\n",
       "      <th>1</th>\n",
       "      <td>1</td>\n",
       "    </tr>\n",
       "    <tr>\n",
       "      <th>2</th>\n",
       "      <td>1</td>\n",
       "    </tr>\n",
       "    <tr>\n",
       "      <th>3</th>\n",
       "      <td>1</td>\n",
       "    </tr>\n",
       "  </tbody>\n",
       "</table>\n",
       "</div>"
      ],
      "text/plain": [
       "   y\n",
       "0  0\n",
       "1  1\n",
       "2  1\n",
       "3  1"
      ]
     },
     "execution_count": 63,
     "metadata": {},
     "output_type": "execute_result"
    }
   ],
   "source": [
    "y = OR['y']\n",
    "y.to_frame()"
   ]
  },
  {
   "cell_type": "code",
   "execution_count": 64,
   "id": "7993add5",
   "metadata": {},
   "outputs": [
    {
     "name": "stdout",
     "output_type": "stream",
     "text": [
      "self.weights:[6.14960250e-05 1.75085574e-05 1.01904378e-05]\n",
      "X_with_bias:  \n",
      "[[ 0.  0. -1.]\n",
      " [ 0.  1. -1.]\n",
      " [ 1.  0. -1.]\n",
      " [ 1.  1. -1.]]\n",
      "for epoch: 0\n",
      "predicted value: \n",
      "[0 1 1 1]\n",
      "error : \n",
      " 0    0\n",
      "1    0\n",
      "2    0\n",
      "3    0\n",
      "Name: y, dtype: int64\n",
      "updated wights: \n",
      " [6.14960250e-05 1.75085574e-05 1.01904378e-05]\n",
      "for epoch: 1\n",
      "predicted value: \n",
      "[0 1 1 1]\n",
      "error : \n",
      " 0    0\n",
      "1    0\n",
      "2    0\n",
      "3    0\n",
      "Name: y, dtype: int64\n",
      "updated wights: \n",
      " [6.14960250e-05 1.75085574e-05 1.01904378e-05]\n",
      "for epoch: 2\n",
      "predicted value: \n",
      "[0 1 1 1]\n",
      "error : \n",
      " 0    0\n",
      "1    0\n",
      "2    0\n",
      "3    0\n",
      "Name: y, dtype: int64\n",
      "updated wights: \n",
      " [6.14960250e-05 1.75085574e-05 1.01904378e-05]\n",
      "for epoch: 3\n",
      "predicted value: \n",
      "[0 1 1 1]\n",
      "error : \n",
      " 0    0\n",
      "1    0\n",
      "2    0\n",
      "3    0\n",
      "Name: y, dtype: int64\n",
      "updated wights: \n",
      " [6.14960250e-05 1.75085574e-05 1.01904378e-05]\n",
      "for epoch: 4\n",
      "predicted value: \n",
      "[0 1 1 1]\n",
      "error : \n",
      " 0    0\n",
      "1    0\n",
      "2    0\n",
      "3    0\n",
      "Name: y, dtype: int64\n",
      "updated wights: \n",
      " [6.14960250e-05 1.75085574e-05 1.01904378e-05]\n",
      "for epoch: 5\n",
      "predicted value: \n",
      "[0 1 1 1]\n",
      "error : \n",
      " 0    0\n",
      "1    0\n",
      "2    0\n",
      "3    0\n",
      "Name: y, dtype: int64\n",
      "updated wights: \n",
      " [6.14960250e-05 1.75085574e-05 1.01904378e-05]\n",
      "for epoch: 6\n",
      "predicted value: \n",
      "[0 1 1 1]\n",
      "error : \n",
      " 0    0\n",
      "1    0\n",
      "2    0\n",
      "3    0\n",
      "Name: y, dtype: int64\n",
      "updated wights: \n",
      " [6.14960250e-05 1.75085574e-05 1.01904378e-05]\n",
      "for epoch: 7\n",
      "predicted value: \n",
      "[0 1 1 1]\n",
      "error : \n",
      " 0    0\n",
      "1    0\n",
      "2    0\n",
      "3    0\n",
      "Name: y, dtype: int64\n",
      "updated wights: \n",
      " [6.14960250e-05 1.75085574e-05 1.01904378e-05]\n",
      "for epoch: 8\n",
      "predicted value: \n",
      "[0 1 1 1]\n",
      "error : \n",
      " 0    0\n",
      "1    0\n",
      "2    0\n",
      "3    0\n",
      "Name: y, dtype: int64\n",
      "updated wights: \n",
      " [6.14960250e-05 1.75085574e-05 1.01904378e-05]\n",
      "for epoch: 9\n",
      "predicted value: \n",
      "[0 1 1 1]\n",
      "error : \n",
      " 0    0\n",
      "1    0\n",
      "2    0\n",
      "3    0\n",
      "Name: y, dtype: int64\n",
      "updated wights: \n",
      " [6.14960250e-05 1.75085574e-05 1.01904378e-05]\n"
     ]
    }
   ],
   "source": [
    "\n",
    "model = Perceptron(eta=0.5,epochs=10)\n",
    "model.fit(X,y)"
   ]
  },
  {
   "cell_type": "code",
   "execution_count": 65,
   "id": "d0dfb76a",
   "metadata": {},
   "outputs": [
    {
     "data": {
      "text/plain": [
       "array([0, 1, 1, 1])"
      ]
     },
     "execution_count": 65,
     "metadata": {},
     "output_type": "execute_result"
    }
   ],
   "source": [
    "model.predict(X)"
   ]
  },
  {
   "cell_type": "code",
   "execution_count": 66,
   "id": "65192447",
   "metadata": {},
   "outputs": [
    {
     "data": {
      "text/plain": [
       "array([6.14960250e-05, 1.75085574e-05, 1.01904378e-05])"
      ]
     },
     "execution_count": 66,
     "metadata": {},
     "output_type": "execute_result"
    }
   ],
   "source": [
    "model.weights\n"
   ]
  },
  {
   "cell_type": "code",
   "execution_count": null,
   "id": "f2e3d446",
   "metadata": {},
   "outputs": [],
   "source": []
  }
 ],
 "metadata": {
  "kernelspec": {
   "display_name": "Python 3 (ipykernel)",
   "language": "python",
   "name": "python3"
  },
  "language_info": {
   "codemirror_mode": {
    "name": "ipython",
    "version": 3
   },
   "file_extension": ".py",
   "mimetype": "text/x-python",
   "name": "python",
   "nbconvert_exporter": "python",
   "pygments_lexer": "ipython3",
   "version": "3.11.4"
  }
 },
 "nbformat": 4,
 "nbformat_minor": 5
}
